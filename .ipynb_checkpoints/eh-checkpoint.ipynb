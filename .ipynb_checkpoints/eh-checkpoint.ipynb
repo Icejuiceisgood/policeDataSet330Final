{
 "cells": [
  {
   "cell_type": "code",
   "execution_count": 5,
   "id": "5c9b2e68",
   "metadata": {},
   "outputs": [
    {
     "name": "stdout",
     "output_type": "stream",
     "text": [
      "Collecting shapely\n",
      "  Using cached shapely-2.0.1-cp39-cp39-win_amd64.whl (1.4 MB)\n",
      "Requirement already satisfied: numpy>=1.14 in c:\\users\\risha\\anaconda3\\lib\\site-packages (from shapely) (1.23.5)\n",
      "Installing collected packages: shapely\n",
      "Successfully installed shapely-2.0.1\n",
      "Note: you may need to restart the kernel to use updated packages.\n"
     ]
    }
   ],
   "source": [
    "pip install shapely"
   ]
  },
  {
   "cell_type": "code",
   "execution_count": 4,
   "id": "bc7e5a47",
   "metadata": {},
   "outputs": [
    {
     "ename": "ModuleNotFoundError",
     "evalue": "No module named 'shapely'",
     "output_type": "error",
     "traceback": [
      "\u001b[1;31m---------------------------------------------------------------------------\u001b[0m",
      "\u001b[1;31mModuleNotFoundError\u001b[0m                       Traceback (most recent call last)",
      "\u001b[1;32m~\\AppData\\Local\\Temp/ipykernel_5512/1523797300.py\u001b[0m in \u001b[0;36m<module>\u001b[1;34m\u001b[0m\n\u001b[0;32m      8\u001b[0m \u001b[1;32mimport\u001b[0m \u001b[0mmatplotlib\u001b[0m \u001b[1;32mas\u001b[0m \u001b[0mmpl\u001b[0m\u001b[1;33m\u001b[0m\u001b[1;33m\u001b[0m\u001b[0m\n\u001b[0;32m      9\u001b[0m \u001b[1;32mfrom\u001b[0m \u001b[0mmatplotlib\u001b[0m\u001b[1;33m.\u001b[0m\u001b[0mpylab\u001b[0m \u001b[1;32mimport\u001b[0m \u001b[0mcm\u001b[0m\u001b[1;33m\u001b[0m\u001b[1;33m\u001b[0m\u001b[0m\n\u001b[1;32m---> 10\u001b[1;33m \u001b[1;32mfrom\u001b[0m \u001b[0mshapely\u001b[0m\u001b[1;33m.\u001b[0m\u001b[0mgeometry\u001b[0m \u001b[1;32mimport\u001b[0m \u001b[0mPoint\u001b[0m\u001b[1;33m\u001b[0m\u001b[1;33m\u001b[0m\u001b[0m\n\u001b[0m",
      "\u001b[1;31mModuleNotFoundError\u001b[0m: No module named 'shapely'"
     ]
    }
   ],
   "source": [
    "%matplotlib inline\n",
    "import os\n",
    "os.environ['USE_PYGEOS'] = '0'\n",
    "import pandas as pd\n",
    "\n",
    "\n",
    "import matplotlib.pyplot as plt\n",
    "import matplotlib as mpl\n",
    "from matplotlib.pylab import cm\n",
    "from shapely.geometry import Point"
   ]
  },
  {
   "cell_type": "code",
   "execution_count": 2,
   "id": "cf846565",
   "metadata": {},
   "outputs": [
    {
     "name": "stderr",
     "output_type": "stream",
     "text": [
      "C:\\Users\\risha\\anaconda3\\lib\\site-packages\\IPython\\core\\interactiveshell.py:3444: DtypeWarning: Columns (8,15,16) have mixed types.Specify dtype option on import or set low_memory=False.\n",
      "  exec(code_obj, self.user_global_ns, self.user_ns)\n"
     ]
    }
   ],
   "source": [
    "frame=pd.read_csv('Detroit-RMS_Crime_Incidents.csv')"
   ]
  },
  {
   "cell_type": "code",
   "execution_count": 5,
   "id": "ac879b2f",
   "metadata": {},
   "outputs": [
    {
     "data": {
      "text/plain": [
       "X                      float64\n",
       "Y                      float64\n",
       "crime_id                 int64\n",
       "report_number            int64\n",
       "address                 object\n",
       "offense_description     object\n",
       "offense_category        object\n",
       "state_offense_code       int64\n",
       "arrest_charge           object\n",
       "charge_description      object\n",
       "incident_timestamp      object\n",
       "incident_time           object\n",
       "day_of_week              int64\n",
       "hour_of_day              int64\n",
       "year                     int64\n",
       "scout_car_area          object\n",
       "precinct                object\n",
       "block_id                 int64\n",
       "neighborhood            object\n",
       "council_district         int64\n",
       "zip_code                 int64\n",
       "longitude              float64\n",
       "latitude               float64\n",
       "ibr_date                object\n",
       "oid                      int64\n",
       "dtype: object"
      ]
     },
     "execution_count": 5,
     "metadata": {},
     "output_type": "execute_result"
    }
   ],
   "source": [
    "frame.dtypes"
   ]
  },
  {
   "cell_type": "code",
   "execution_count": 13,
   "id": "0d0e7888",
   "metadata": {},
   "outputs": [
    {
     "data": {
      "text/plain": [
       "0                         ARSON\n",
       "2                       LARCENY\n",
       "4                       ROBBERY\n",
       "9                         OTHER\n",
       "12               STOLEN VEHICLE\n",
       "17                     BURGLARY\n",
       "20                        FRAUD\n",
       "29           DAMAGE TO PROPERTY\n",
       "33                    EXTORTION\n",
       "39                      RUNAWAY\n",
       "86                      ASSAULT\n",
       "100                SEX OFFENSES\n",
       "164                        OUIL\n",
       "357             STOLEN PROPERTY\n",
       "457          AGGRAVATED ASSAULT\n",
       "469            WEAPONS OFFENSES\n",
       "485              SEXUAL ASSAULT\n",
       "487              FAMILY OFFENSE\n",
       "489             DANGEROUS DRUGS\n",
       "512                  KIDNAPPING\n",
       "542               MISCELLANEOUS\n",
       "577                    HOMICIDE\n",
       "736                     FORGERY\n",
       "820          DISORDERLY CONDUCT\n",
       "1184      OBSTRUCTING JUDICIARY\n",
       "1595                     LIQUOR\n",
       "2867               SOLICITATION\n",
       "4332     OBSTRUCTING THE POLICE\n",
       "9383       JUSTIFIABLE HOMICIDE\n",
       "49573                  GAMBLING\n",
       "Name: offense_category, dtype: object"
      ]
     },
     "execution_count": 13,
     "metadata": {},
     "output_type": "execute_result"
    }
   ],
   "source": [
    "nonNumerics = ['object']\n",
    "\n",
    "newdf = frame.select_dtypes(include=nonNumerics)\n",
    "newdf['offense_category'].drop_duplicates()"
   ]
  },
  {
   "cell_type": "code",
   "execution_count": null,
   "id": "47a5c1d3",
   "metadata": {},
   "outputs": [],
   "source": []
  }
 ],
 "metadata": {
  "kernelspec": {
   "display_name": "Python 3 (ipykernel)",
   "language": "python",
   "name": "python3"
  },
  "language_info": {
   "codemirror_mode": {
    "name": "ipython",
    "version": 3
   },
   "file_extension": ".py",
   "mimetype": "text/x-python",
   "name": "python",
   "nbconvert_exporter": "python",
   "pygments_lexer": "ipython3",
   "version": "3.9.7"
  }
 },
 "nbformat": 4,
 "nbformat_minor": 5
}
